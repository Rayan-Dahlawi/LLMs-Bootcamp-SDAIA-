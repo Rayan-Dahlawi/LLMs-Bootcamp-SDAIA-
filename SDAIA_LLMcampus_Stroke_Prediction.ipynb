{
  "cells": [
    {
      "cell_type": "markdown",
      "metadata": {
        "id": "view-in-github",
        "colab_type": "text"
      },
      "source": [
        "<a href=\"https://colab.research.google.com/github/Rayan-Dahlawi/My-Other-Projects/blob/main/SDAIA_LLMcampus_Stroke_Prediction.ipynb\" target=\"_parent\"><img src=\"https://colab.research.google.com/assets/colab-badge.svg\" alt=\"Open In Colab\"/></a>"
      ]
    },
    {
      "cell_type": "markdown",
      "metadata": {
        "id": "0g2RQRSltgja"
      },
      "source": [
        "# Full DL Solution\n",
        "---\n",
        "### **Case Study:** Stroke Prediction\n",
        "\n",
        "**Objective:** The goal of this project is to walk you through a case study where you can apply the deep learning concepts that you learned about during the week. By the end of this project, you would have developed a solution that predicts if a person will have a stroke or not.\n"
      ]
    },
    {
      "cell_type": "markdown",
      "metadata": {
        "id": "SSCD88NxJjFo"
      },
      "source": [
        "**Dataset Explanation:** We will be using the stroke dataset. Its features are:\n",
        "\n",
        "\n",
        "* **id:** unique identifier\n",
        "* **gender:** \"Male\", \"Female\" or \"Other\"\n",
        "* **age:** age of the patient\n",
        "* **hypertension:** 0 if the patient doesn't have hypertension, 1 if the patient has hypertension\n",
        "* **heart_disease:** 0 if the patient doesn't have any heart diseases, 1 if the patient has a heart disease\n",
        "* **ever_married:** \"No\" or \"Yes\"\n",
        "* **work_type:** \"children\", \"Govt_jov\", \"Never_worked\", \"Private\" or \"Self-employed\"\n",
        "* **Residence_type:** \"Rural\" or \"Urban\"\n",
        "* **avg_glucose_level:** average glucose level in blood\n",
        "* **bmi:** body mass index\n",
        "* **smoking_status:** \"formerly smoked\", \"never smoked\", \"smokes\" or \"Unknown\"*\n",
        "* **stroke:** 1 if the patient had a stroke or 0 if not"
      ]
    },
    {
      "cell_type": "markdown",
      "metadata": {
        "id": "gBvX5nCYt8cT"
      },
      "source": [
        "# Importing Libraries"
      ]
    },
    {
      "cell_type": "markdown",
      "metadata": {
        "id": "JaPfsfvXK2_0"
      },
      "source": [
        "We start by importing the libraries"
      ]
    },
    {
      "cell_type": "code",
      "execution_count": 1,
      "metadata": {
        "id": "oK92M0m-ezbE"
      },
      "outputs": [],
      "source": [
        "import warnings\n",
        "warnings.filterwarnings('ignore')"
      ]
    },
    {
      "cell_type": "code",
      "execution_count": 2,
      "metadata": {
        "id": "mMQuUG7OtfrG"
      },
      "outputs": [],
      "source": [
        "import numpy as np\n",
        "import pandas as pd\n",
        "import matplotlib.pyplot as plt"
      ]
    },
    {
      "cell_type": "markdown",
      "metadata": {
        "id": "0-RxAH5auFFy"
      },
      "source": [
        "# Loading the Dataset"
      ]
    },
    {
      "cell_type": "markdown",
      "metadata": {
        "id": "z_jj2t6zK6zy"
      },
      "source": [
        "We load the dataset from a csv file, and see its first rows"
      ]
    },
    {
      "cell_type": "code",
      "execution_count": 3,
      "metadata": {
        "id": "UQVo1CAJt7s8",
        "colab": {
          "base_uri": "https://localhost:8080/",
          "height": 206
        },
        "outputId": "1c3c5e2b-1699-4ed7-ca29-97ae716e122d"
      },
      "outputs": [
        {
          "output_type": "execute_result",
          "data": {
            "text/plain": [
              "      id  gender   age  hypertension  heart_disease ever_married  \\\n",
              "0   9046    Male  67.0             0              1          Yes   \n",
              "1  51676  Female  61.0             0              0          Yes   \n",
              "2  31112    Male  80.0             0              1          Yes   \n",
              "3  60182  Female  49.0             0              0          Yes   \n",
              "4   1665  Female  79.0             1              0          Yes   \n",
              "\n",
              "       work_type Residence_type  avg_glucose_level   bmi   smoking_status  \\\n",
              "0        Private          Urban             228.69  36.6  formerly smoked   \n",
              "1  Self-employed          Rural             202.21   NaN     never smoked   \n",
              "2        Private          Rural             105.92  32.5     never smoked   \n",
              "3        Private          Urban             171.23  34.4           smokes   \n",
              "4  Self-employed          Rural             174.12  24.0     never smoked   \n",
              "\n",
              "   stroke  \n",
              "0       1  \n",
              "1       1  \n",
              "2       1  \n",
              "3       1  \n",
              "4       1  "
            ],
            "text/html": [
              "\n",
              "  <div id=\"df-12462944-0313-4aa7-8361-21fabc8d284d\" class=\"colab-df-container\">\n",
              "    <div>\n",
              "<style scoped>\n",
              "    .dataframe tbody tr th:only-of-type {\n",
              "        vertical-align: middle;\n",
              "    }\n",
              "\n",
              "    .dataframe tbody tr th {\n",
              "        vertical-align: top;\n",
              "    }\n",
              "\n",
              "    .dataframe thead th {\n",
              "        text-align: right;\n",
              "    }\n",
              "</style>\n",
              "<table border=\"1\" class=\"dataframe\">\n",
              "  <thead>\n",
              "    <tr style=\"text-align: right;\">\n",
              "      <th></th>\n",
              "      <th>id</th>\n",
              "      <th>gender</th>\n",
              "      <th>age</th>\n",
              "      <th>hypertension</th>\n",
              "      <th>heart_disease</th>\n",
              "      <th>ever_married</th>\n",
              "      <th>work_type</th>\n",
              "      <th>Residence_type</th>\n",
              "      <th>avg_glucose_level</th>\n",
              "      <th>bmi</th>\n",
              "      <th>smoking_status</th>\n",
              "      <th>stroke</th>\n",
              "    </tr>\n",
              "  </thead>\n",
              "  <tbody>\n",
              "    <tr>\n",
              "      <th>0</th>\n",
              "      <td>9046</td>\n",
              "      <td>Male</td>\n",
              "      <td>67.0</td>\n",
              "      <td>0</td>\n",
              "      <td>1</td>\n",
              "      <td>Yes</td>\n",
              "      <td>Private</td>\n",
              "      <td>Urban</td>\n",
              "      <td>228.69</td>\n",
              "      <td>36.6</td>\n",
              "      <td>formerly smoked</td>\n",
              "      <td>1</td>\n",
              "    </tr>\n",
              "    <tr>\n",
              "      <th>1</th>\n",
              "      <td>51676</td>\n",
              "      <td>Female</td>\n",
              "      <td>61.0</td>\n",
              "      <td>0</td>\n",
              "      <td>0</td>\n",
              "      <td>Yes</td>\n",
              "      <td>Self-employed</td>\n",
              "      <td>Rural</td>\n",
              "      <td>202.21</td>\n",
              "      <td>NaN</td>\n",
              "      <td>never smoked</td>\n",
              "      <td>1</td>\n",
              "    </tr>\n",
              "    <tr>\n",
              "      <th>2</th>\n",
              "      <td>31112</td>\n",
              "      <td>Male</td>\n",
              "      <td>80.0</td>\n",
              "      <td>0</td>\n",
              "      <td>1</td>\n",
              "      <td>Yes</td>\n",
              "      <td>Private</td>\n",
              "      <td>Rural</td>\n",
              "      <td>105.92</td>\n",
              "      <td>32.5</td>\n",
              "      <td>never smoked</td>\n",
              "      <td>1</td>\n",
              "    </tr>\n",
              "    <tr>\n",
              "      <th>3</th>\n",
              "      <td>60182</td>\n",
              "      <td>Female</td>\n",
              "      <td>49.0</td>\n",
              "      <td>0</td>\n",
              "      <td>0</td>\n",
              "      <td>Yes</td>\n",
              "      <td>Private</td>\n",
              "      <td>Urban</td>\n",
              "      <td>171.23</td>\n",
              "      <td>34.4</td>\n",
              "      <td>smokes</td>\n",
              "      <td>1</td>\n",
              "    </tr>\n",
              "    <tr>\n",
              "      <th>4</th>\n",
              "      <td>1665</td>\n",
              "      <td>Female</td>\n",
              "      <td>79.0</td>\n",
              "      <td>1</td>\n",
              "      <td>0</td>\n",
              "      <td>Yes</td>\n",
              "      <td>Self-employed</td>\n",
              "      <td>Rural</td>\n",
              "      <td>174.12</td>\n",
              "      <td>24.0</td>\n",
              "      <td>never smoked</td>\n",
              "      <td>1</td>\n",
              "    </tr>\n",
              "  </tbody>\n",
              "</table>\n",
              "</div>\n",
              "    <div class=\"colab-df-buttons\">\n",
              "\n",
              "  <div class=\"colab-df-container\">\n",
              "    <button class=\"colab-df-convert\" onclick=\"convertToInteractive('df-12462944-0313-4aa7-8361-21fabc8d284d')\"\n",
              "            title=\"Convert this dataframe to an interactive table.\"\n",
              "            style=\"display:none;\">\n",
              "\n",
              "  <svg xmlns=\"http://www.w3.org/2000/svg\" height=\"24px\" viewBox=\"0 -960 960 960\">\n",
              "    <path d=\"M120-120v-720h720v720H120Zm60-500h600v-160H180v160Zm220 220h160v-160H400v160Zm0 220h160v-160H400v160ZM180-400h160v-160H180v160Zm440 0h160v-160H620v160ZM180-180h160v-160H180v160Zm440 0h160v-160H620v160Z\"/>\n",
              "  </svg>\n",
              "    </button>\n",
              "\n",
              "  <style>\n",
              "    .colab-df-container {\n",
              "      display:flex;\n",
              "      gap: 12px;\n",
              "    }\n",
              "\n",
              "    .colab-df-convert {\n",
              "      background-color: #E8F0FE;\n",
              "      border: none;\n",
              "      border-radius: 50%;\n",
              "      cursor: pointer;\n",
              "      display: none;\n",
              "      fill: #1967D2;\n",
              "      height: 32px;\n",
              "      padding: 0 0 0 0;\n",
              "      width: 32px;\n",
              "    }\n",
              "\n",
              "    .colab-df-convert:hover {\n",
              "      background-color: #E2EBFA;\n",
              "      box-shadow: 0px 1px 2px rgba(60, 64, 67, 0.3), 0px 1px 3px 1px rgba(60, 64, 67, 0.15);\n",
              "      fill: #174EA6;\n",
              "    }\n",
              "\n",
              "    .colab-df-buttons div {\n",
              "      margin-bottom: 4px;\n",
              "    }\n",
              "\n",
              "    [theme=dark] .colab-df-convert {\n",
              "      background-color: #3B4455;\n",
              "      fill: #D2E3FC;\n",
              "    }\n",
              "\n",
              "    [theme=dark] .colab-df-convert:hover {\n",
              "      background-color: #434B5C;\n",
              "      box-shadow: 0px 1px 3px 1px rgba(0, 0, 0, 0.15);\n",
              "      filter: drop-shadow(0px 1px 2px rgba(0, 0, 0, 0.3));\n",
              "      fill: #FFFFFF;\n",
              "    }\n",
              "  </style>\n",
              "\n",
              "    <script>\n",
              "      const buttonEl =\n",
              "        document.querySelector('#df-12462944-0313-4aa7-8361-21fabc8d284d button.colab-df-convert');\n",
              "      buttonEl.style.display =\n",
              "        google.colab.kernel.accessAllowed ? 'block' : 'none';\n",
              "\n",
              "      async function convertToInteractive(key) {\n",
              "        const element = document.querySelector('#df-12462944-0313-4aa7-8361-21fabc8d284d');\n",
              "        const dataTable =\n",
              "          await google.colab.kernel.invokeFunction('convertToInteractive',\n",
              "                                                    [key], {});\n",
              "        if (!dataTable) return;\n",
              "\n",
              "        const docLinkHtml = 'Like what you see? Visit the ' +\n",
              "          '<a target=\"_blank\" href=https://colab.research.google.com/notebooks/data_table.ipynb>data table notebook</a>'\n",
              "          + ' to learn more about interactive tables.';\n",
              "        element.innerHTML = '';\n",
              "        dataTable['output_type'] = 'display_data';\n",
              "        await google.colab.output.renderOutput(dataTable, element);\n",
              "        const docLink = document.createElement('div');\n",
              "        docLink.innerHTML = docLinkHtml;\n",
              "        element.appendChild(docLink);\n",
              "      }\n",
              "    </script>\n",
              "  </div>\n",
              "\n",
              "\n",
              "<div id=\"df-dac12b9d-8044-4e03-8b66-b77e48dd8006\">\n",
              "  <button class=\"colab-df-quickchart\" onclick=\"quickchart('df-dac12b9d-8044-4e03-8b66-b77e48dd8006')\"\n",
              "            title=\"Suggest charts\"\n",
              "            style=\"display:none;\">\n",
              "\n",
              "<svg xmlns=\"http://www.w3.org/2000/svg\" height=\"24px\"viewBox=\"0 0 24 24\"\n",
              "     width=\"24px\">\n",
              "    <g>\n",
              "        <path d=\"M19 3H5c-1.1 0-2 .9-2 2v14c0 1.1.9 2 2 2h14c1.1 0 2-.9 2-2V5c0-1.1-.9-2-2-2zM9 17H7v-7h2v7zm4 0h-2V7h2v10zm4 0h-2v-4h2v4z\"/>\n",
              "    </g>\n",
              "</svg>\n",
              "  </button>\n",
              "\n",
              "<style>\n",
              "  .colab-df-quickchart {\n",
              "      --bg-color: #E8F0FE;\n",
              "      --fill-color: #1967D2;\n",
              "      --hover-bg-color: #E2EBFA;\n",
              "      --hover-fill-color: #174EA6;\n",
              "      --disabled-fill-color: #AAA;\n",
              "      --disabled-bg-color: #DDD;\n",
              "  }\n",
              "\n",
              "  [theme=dark] .colab-df-quickchart {\n",
              "      --bg-color: #3B4455;\n",
              "      --fill-color: #D2E3FC;\n",
              "      --hover-bg-color: #434B5C;\n",
              "      --hover-fill-color: #FFFFFF;\n",
              "      --disabled-bg-color: #3B4455;\n",
              "      --disabled-fill-color: #666;\n",
              "  }\n",
              "\n",
              "  .colab-df-quickchart {\n",
              "    background-color: var(--bg-color);\n",
              "    border: none;\n",
              "    border-radius: 50%;\n",
              "    cursor: pointer;\n",
              "    display: none;\n",
              "    fill: var(--fill-color);\n",
              "    height: 32px;\n",
              "    padding: 0;\n",
              "    width: 32px;\n",
              "  }\n",
              "\n",
              "  .colab-df-quickchart:hover {\n",
              "    background-color: var(--hover-bg-color);\n",
              "    box-shadow: 0 1px 2px rgba(60, 64, 67, 0.3), 0 1px 3px 1px rgba(60, 64, 67, 0.15);\n",
              "    fill: var(--button-hover-fill-color);\n",
              "  }\n",
              "\n",
              "  .colab-df-quickchart-complete:disabled,\n",
              "  .colab-df-quickchart-complete:disabled:hover {\n",
              "    background-color: var(--disabled-bg-color);\n",
              "    fill: var(--disabled-fill-color);\n",
              "    box-shadow: none;\n",
              "  }\n",
              "\n",
              "  .colab-df-spinner {\n",
              "    border: 2px solid var(--fill-color);\n",
              "    border-color: transparent;\n",
              "    border-bottom-color: var(--fill-color);\n",
              "    animation:\n",
              "      spin 1s steps(1) infinite;\n",
              "  }\n",
              "\n",
              "  @keyframes spin {\n",
              "    0% {\n",
              "      border-color: transparent;\n",
              "      border-bottom-color: var(--fill-color);\n",
              "      border-left-color: var(--fill-color);\n",
              "    }\n",
              "    20% {\n",
              "      border-color: transparent;\n",
              "      border-left-color: var(--fill-color);\n",
              "      border-top-color: var(--fill-color);\n",
              "    }\n",
              "    30% {\n",
              "      border-color: transparent;\n",
              "      border-left-color: var(--fill-color);\n",
              "      border-top-color: var(--fill-color);\n",
              "      border-right-color: var(--fill-color);\n",
              "    }\n",
              "    40% {\n",
              "      border-color: transparent;\n",
              "      border-right-color: var(--fill-color);\n",
              "      border-top-color: var(--fill-color);\n",
              "    }\n",
              "    60% {\n",
              "      border-color: transparent;\n",
              "      border-right-color: var(--fill-color);\n",
              "    }\n",
              "    80% {\n",
              "      border-color: transparent;\n",
              "      border-right-color: var(--fill-color);\n",
              "      border-bottom-color: var(--fill-color);\n",
              "    }\n",
              "    90% {\n",
              "      border-color: transparent;\n",
              "      border-bottom-color: var(--fill-color);\n",
              "    }\n",
              "  }\n",
              "</style>\n",
              "\n",
              "  <script>\n",
              "    async function quickchart(key) {\n",
              "      const quickchartButtonEl =\n",
              "        document.querySelector('#' + key + ' button');\n",
              "      quickchartButtonEl.disabled = true;  // To prevent multiple clicks.\n",
              "      quickchartButtonEl.classList.add('colab-df-spinner');\n",
              "      try {\n",
              "        const charts = await google.colab.kernel.invokeFunction(\n",
              "            'suggestCharts', [key], {});\n",
              "      } catch (error) {\n",
              "        console.error('Error during call to suggestCharts:', error);\n",
              "      }\n",
              "      quickchartButtonEl.classList.remove('colab-df-spinner');\n",
              "      quickchartButtonEl.classList.add('colab-df-quickchart-complete');\n",
              "    }\n",
              "    (() => {\n",
              "      let quickchartButtonEl =\n",
              "        document.querySelector('#df-dac12b9d-8044-4e03-8b66-b77e48dd8006 button');\n",
              "      quickchartButtonEl.style.display =\n",
              "        google.colab.kernel.accessAllowed ? 'block' : 'none';\n",
              "    })();\n",
              "  </script>\n",
              "</div>\n",
              "    </div>\n",
              "  </div>\n"
            ]
          },
          "metadata": {},
          "execution_count": 3
        }
      ],
      "source": [
        "path = 'healthcare-dataset-stroke-data.csv'\n",
        "data = pd.read_csv(path)\n",
        "data.head()"
      ]
    },
    {
      "cell_type": "markdown",
      "metadata": {
        "id": "r6gAyBGtubI7"
      },
      "source": [
        "# Exploratory Data Analysis"
      ]
    },
    {
      "cell_type": "markdown",
      "metadata": {
        "id": "XZ_93CvuLF3j"
      },
      "source": [
        "Now we start the exploratory data analysis."
      ]
    },
    {
      "cell_type": "markdown",
      "metadata": {
        "id": "2925yVCdud0a"
      },
      "source": [
        "### Shape of the data"
      ]
    },
    {
      "cell_type": "markdown",
      "metadata": {
        "id": "yZ0hWvVALJy4"
      },
      "source": [
        "First thing we need to know the shape of our data\n",
        "\n",
        "**Question 1:** How many examples and features do we have?"
      ]
    },
    {
      "cell_type": "code",
      "execution_count": 4,
      "metadata": {
        "id": "8pvWR3PKuQEy",
        "colab": {
          "base_uri": "https://localhost:8080/"
        },
        "outputId": "22e1451b-1037-4dd1-ee38-cf4502dcca1b"
      },
      "outputs": [
        {
          "output_type": "stream",
          "name": "stdout",
          "text": [
            "5110 12\n"
          ]
        }
      ],
      "source": [
        "nrow, ncol = data.shape\n",
        "print(nrow, ncol)"
      ]
    },
    {
      "cell_type": "markdown",
      "metadata": {
        "id": "yUy4oI5xukRr"
      },
      "source": [
        "### Types of different Columns"
      ]
    },
    {
      "cell_type": "markdown",
      "metadata": {
        "id": "G1q10ievLTTs"
      },
      "source": [
        "**Question 2:** Check the type of each feature."
      ]
    },
    {
      "cell_type": "code",
      "execution_count": 5,
      "metadata": {
        "id": "_8snoohouhUP",
        "colab": {
          "base_uri": "https://localhost:8080/"
        },
        "outputId": "b9f3a380-ff2d-4f06-c5a2-f9965bfc32cc"
      },
      "outputs": [
        {
          "output_type": "stream",
          "name": "stdout",
          "text": [
            "Feature data types:\n",
            "id                     int64\n",
            "gender                object\n",
            "age                  float64\n",
            "hypertension           int64\n",
            "heart_disease          int64\n",
            "ever_married          object\n",
            "work_type             object\n",
            "Residence_type        object\n",
            "avg_glucose_level    float64\n",
            "bmi                  float64\n",
            "smoking_status        object\n",
            "stroke                 int64\n",
            "dtype: object\n"
          ]
        }
      ],
      "source": [
        "feature_data_types = data.dtypes\n",
        "\n",
        "print(\"Feature data types:\")\n",
        "print(feature_data_types)"
      ]
    },
    {
      "cell_type": "markdown",
      "metadata": {
        "id": "nkrEh6RYygms"
      },
      "source": [
        "### Dealing with categorical variables"
      ]
    },
    {
      "cell_type": "markdown",
      "metadata": {
        "id": "v_kBYl7ItLGt"
      },
      "source": [
        "**Question 3:** Use the .value_counts() functions to walk through the categorical variables that we have to see the categories and the counts of each of them."
      ]
    },
    {
      "cell_type": "code",
      "execution_count": 6,
      "metadata": {
        "id": "DlSfSQ35ykgc",
        "colab": {
          "base_uri": "https://localhost:8080/"
        },
        "outputId": "adc7c291-6dfe-4665-cde1-e6da37e21002"
      },
      "outputs": [
        {
          "output_type": "execute_result",
          "data": {
            "text/plain": [
              "never smoked       1892\n",
              "Unknown            1544\n",
              "formerly smoked     885\n",
              "smokes              789\n",
              "Name: smoking_status, dtype: int64"
            ]
          },
          "metadata": {},
          "execution_count": 6
        }
      ],
      "source": [
        "smoking_types = data['smoking_status'].value_counts()\n",
        "smoking_types"
      ]
    },
    {
      "cell_type": "code",
      "execution_count": 7,
      "metadata": {
        "id": "Yg0xlLNUy7AF",
        "colab": {
          "base_uri": "https://localhost:8080/"
        },
        "outputId": "edd417ea-a86d-4635-87ec-bdb99a99d6aa"
      },
      "outputs": [
        {
          "output_type": "execute_result",
          "data": {
            "text/plain": [
              "Urban    2596\n",
              "Rural    2514\n",
              "Name: Residence_type, dtype: int64"
            ]
          },
          "metadata": {},
          "execution_count": 7
        }
      ],
      "source": [
        "residence_types = data['Residence_type'].value_counts()\n",
        "residence_types"
      ]
    },
    {
      "cell_type": "code",
      "execution_count": 8,
      "metadata": {
        "id": "T72r_mkrzF9V",
        "colab": {
          "base_uri": "https://localhost:8080/"
        },
        "outputId": "9faf48d6-d1bf-4fb4-be09-2a81adab14f1"
      },
      "outputs": [
        {
          "output_type": "execute_result",
          "data": {
            "text/plain": [
              "Private          2925\n",
              "Self-employed     819\n",
              "children          687\n",
              "Govt_job          657\n",
              "Never_worked       22\n",
              "Name: work_type, dtype: int64"
            ]
          },
          "metadata": {},
          "execution_count": 8
        }
      ],
      "source": [
        "work_types =data['work_type'].value_counts()\n",
        "work_types"
      ]
    },
    {
      "cell_type": "code",
      "execution_count": 9,
      "metadata": {
        "id": "Z0kpR57LzQE9",
        "colab": {
          "base_uri": "https://localhost:8080/"
        },
        "outputId": "42cc4cd5-4e21-495e-8a89-74bcd28bf85e"
      },
      "outputs": [
        {
          "output_type": "execute_result",
          "data": {
            "text/plain": [
              "Yes    3353\n",
              "No     1757\n",
              "Name: ever_married, dtype: int64"
            ]
          },
          "metadata": {},
          "execution_count": 9
        }
      ],
      "source": [
        "married_types =data['ever_married'].value_counts()\n",
        "married_types"
      ]
    },
    {
      "cell_type": "code",
      "execution_count": 10,
      "metadata": {
        "id": "fQIoAs8y3igG",
        "colab": {
          "base_uri": "https://localhost:8080/"
        },
        "outputId": "e244c909-982a-480f-c8b9-3233052c1b58"
      },
      "outputs": [
        {
          "output_type": "execute_result",
          "data": {
            "text/plain": [
              "0    4612\n",
              "1     498\n",
              "Name: hypertension, dtype: int64"
            ]
          },
          "metadata": {},
          "execution_count": 10
        }
      ],
      "source": [
        "hypertension = data['hypertension'].value_counts()\n",
        "hypertension"
      ]
    },
    {
      "cell_type": "code",
      "execution_count": 11,
      "metadata": {
        "id": "xEhNH46j3p3Y",
        "colab": {
          "base_uri": "https://localhost:8080/"
        },
        "outputId": "622a90b0-1783-4cf5-c53e-619a82d99be8"
      },
      "outputs": [
        {
          "output_type": "execute_result",
          "data": {
            "text/plain": [
              "0    4834\n",
              "1     276\n",
              "Name: heart_disease, dtype: int64"
            ]
          },
          "metadata": {},
          "execution_count": 11
        }
      ],
      "source": [
        "heart_disease= data['heart_disease'].value_counts()\n",
        "heart_disease"
      ]
    },
    {
      "cell_type": "code",
      "execution_count": 12,
      "metadata": {
        "id": "8cI7uJvA3Njv",
        "colab": {
          "base_uri": "https://localhost:8080/"
        },
        "outputId": "ae0caca4-1a75-46b1-e1f0-7ef9729cb592"
      },
      "outputs": [
        {
          "output_type": "execute_result",
          "data": {
            "text/plain": [
              "0    4861\n",
              "1     249\n",
              "Name: stroke, dtype: int64"
            ]
          },
          "metadata": {},
          "execution_count": 12
        }
      ],
      "source": [
        "stroke= data['stroke'].value_counts()\n",
        "stroke"
      ]
    },
    {
      "cell_type": "markdown",
      "metadata": {
        "id": "_jFIiKPvllld"
      },
      "source": [
        "# Preprocessing"
      ]
    },
    {
      "cell_type": "markdown",
      "metadata": {
        "id": "JsQQj-wVlkjS"
      },
      "source": [
        "### Dealing with Nulls"
      ]
    },
    {
      "cell_type": "markdown",
      "metadata": {
        "id": "wdlRc672lgI4"
      },
      "source": [
        "**Question 4:** The bmi column contains nulls. Fill it with the appropriate measure."
      ]
    },
    {
      "cell_type": "code",
      "execution_count": 13,
      "metadata": {
        "id": "7UDrnGK6lYiE"
      },
      "outputs": [],
      "source": [
        "data['bmi'].fillna(data['bmi'].mean(), inplace=True)"
      ]
    },
    {
      "cell_type": "markdown",
      "metadata": {
        "id": "21da4C_Bzd-u"
      },
      "source": [
        "#### Encoding Categorical Features"
      ]
    },
    {
      "cell_type": "markdown",
      "metadata": {
        "id": "UaNk4gWCLqe4"
      },
      "source": [
        "**Question 5:** Here you have to encode those categorical variables to be able to use them to train your DL model."
      ]
    },
    {
      "cell_type": "code",
      "execution_count": 14,
      "metadata": {
        "id": "6nJtOvxdzi_G"
      },
      "outputs": [],
      "source": [
        "from sklearn import preprocessing\n",
        "\n",
        "encoder = preprocessing.LabelEncoder()\n",
        "data['smoking_status'] = encoder.fit_transform(data['smoking_status'])\n",
        "data['Residence_type'] = encoder.fit_transform(data['Residence_type'])\n",
        "data['work_type'] = encoder.fit_transform(data['work_type'])\n",
        "data['ever_married'] = encoder.fit_transform(data['ever_married'])\n",
        "data['gender'] = encoder.fit_transform(data['gender'])"
      ]
    },
    {
      "cell_type": "markdown",
      "metadata": {
        "id": "d1GOfAgt4M-Q"
      },
      "source": [
        "### Normalizing Features"
      ]
    },
    {
      "cell_type": "markdown",
      "metadata": {
        "id": "EPpkMCXELwty"
      },
      "source": [
        "**Question 6:** Normalize the input data"
      ]
    },
    {
      "cell_type": "code",
      "execution_count": 15,
      "metadata": {
        "colab": {
          "base_uri": "https://localhost:8080/",
          "height": 0
        },
        "id": "2kyyu-vRoOhv",
        "outputId": "c72438d8-d6ca-4bd7-e0c7-a79d446f711f"
      },
      "outputs": [
        {
          "output_type": "execute_result",
          "data": {
            "text/plain": [
              "                id       gender          age  hypertension  heart_disease  \\\n",
              "count  5110.000000  5110.000000  5110.000000   5110.000000    5110.000000   \n",
              "mean      0.500656     0.207143     0.527154      0.097456       0.054012   \n",
              "std       0.290125     0.246522     0.275764      0.296607       0.226063   \n",
              "min       0.000919     0.000000     0.000976      0.000000       0.000000   \n",
              "25%       0.243231     0.000000     0.304878      0.000000       0.000000   \n",
              "50%       0.506334     0.000000     0.548780      0.000000       0.000000   \n",
              "75%       0.749685     0.500000     0.743902      0.000000       0.000000   \n",
              "max       1.000000     1.000000     1.000000      1.000000       1.000000   \n",
              "\n",
              "       ever_married    work_type  Residence_type  avg_glucose_level  \\\n",
              "count   5110.000000  5110.000000     5110.000000        5110.000000   \n",
              "mean       0.656164     0.541928        0.508023           0.390622   \n",
              "std        0.475034     0.272573        0.499985           0.166643   \n",
              "min        0.000000     0.000000        0.000000           0.202841   \n",
              "25%        0.000000     0.500000        0.000000           0.284261   \n",
              "50%        1.000000     0.500000        1.000000           0.338136   \n",
              "75%        1.000000     0.750000        1.000000           0.419850   \n",
              "max        1.000000     1.000000        1.000000           1.000000   \n",
              "\n",
              "               bmi  smoking_status       stroke  \n",
              "count  5110.000000     5110.000000  5110.000000  \n",
              "mean      0.296037        0.458969     0.048728  \n",
              "std       0.078873        0.357178     0.215320  \n",
              "min       0.105533        0.000000     0.000000  \n",
              "25%       0.243852        0.000000     0.000000  \n",
              "50%       0.290984        0.666667     0.000000  \n",
              "75%       0.336066        0.666667     0.000000  \n",
              "max       1.000000        1.000000     1.000000  "
            ],
            "text/html": [
              "\n",
              "  <div id=\"df-917bcce8-fdcf-43f8-8174-825c34f37325\" class=\"colab-df-container\">\n",
              "    <div>\n",
              "<style scoped>\n",
              "    .dataframe tbody tr th:only-of-type {\n",
              "        vertical-align: middle;\n",
              "    }\n",
              "\n",
              "    .dataframe tbody tr th {\n",
              "        vertical-align: top;\n",
              "    }\n",
              "\n",
              "    .dataframe thead th {\n",
              "        text-align: right;\n",
              "    }\n",
              "</style>\n",
              "<table border=\"1\" class=\"dataframe\">\n",
              "  <thead>\n",
              "    <tr style=\"text-align: right;\">\n",
              "      <th></th>\n",
              "      <th>id</th>\n",
              "      <th>gender</th>\n",
              "      <th>age</th>\n",
              "      <th>hypertension</th>\n",
              "      <th>heart_disease</th>\n",
              "      <th>ever_married</th>\n",
              "      <th>work_type</th>\n",
              "      <th>Residence_type</th>\n",
              "      <th>avg_glucose_level</th>\n",
              "      <th>bmi</th>\n",
              "      <th>smoking_status</th>\n",
              "      <th>stroke</th>\n",
              "    </tr>\n",
              "  </thead>\n",
              "  <tbody>\n",
              "    <tr>\n",
              "      <th>count</th>\n",
              "      <td>5110.000000</td>\n",
              "      <td>5110.000000</td>\n",
              "      <td>5110.000000</td>\n",
              "      <td>5110.000000</td>\n",
              "      <td>5110.000000</td>\n",
              "      <td>5110.000000</td>\n",
              "      <td>5110.000000</td>\n",
              "      <td>5110.000000</td>\n",
              "      <td>5110.000000</td>\n",
              "      <td>5110.000000</td>\n",
              "      <td>5110.000000</td>\n",
              "      <td>5110.000000</td>\n",
              "    </tr>\n",
              "    <tr>\n",
              "      <th>mean</th>\n",
              "      <td>0.500656</td>\n",
              "      <td>0.207143</td>\n",
              "      <td>0.527154</td>\n",
              "      <td>0.097456</td>\n",
              "      <td>0.054012</td>\n",
              "      <td>0.656164</td>\n",
              "      <td>0.541928</td>\n",
              "      <td>0.508023</td>\n",
              "      <td>0.390622</td>\n",
              "      <td>0.296037</td>\n",
              "      <td>0.458969</td>\n",
              "      <td>0.048728</td>\n",
              "    </tr>\n",
              "    <tr>\n",
              "      <th>std</th>\n",
              "      <td>0.290125</td>\n",
              "      <td>0.246522</td>\n",
              "      <td>0.275764</td>\n",
              "      <td>0.296607</td>\n",
              "      <td>0.226063</td>\n",
              "      <td>0.475034</td>\n",
              "      <td>0.272573</td>\n",
              "      <td>0.499985</td>\n",
              "      <td>0.166643</td>\n",
              "      <td>0.078873</td>\n",
              "      <td>0.357178</td>\n",
              "      <td>0.215320</td>\n",
              "    </tr>\n",
              "    <tr>\n",
              "      <th>min</th>\n",
              "      <td>0.000919</td>\n",
              "      <td>0.000000</td>\n",
              "      <td>0.000976</td>\n",
              "      <td>0.000000</td>\n",
              "      <td>0.000000</td>\n",
              "      <td>0.000000</td>\n",
              "      <td>0.000000</td>\n",
              "      <td>0.000000</td>\n",
              "      <td>0.202841</td>\n",
              "      <td>0.105533</td>\n",
              "      <td>0.000000</td>\n",
              "      <td>0.000000</td>\n",
              "    </tr>\n",
              "    <tr>\n",
              "      <th>25%</th>\n",
              "      <td>0.243231</td>\n",
              "      <td>0.000000</td>\n",
              "      <td>0.304878</td>\n",
              "      <td>0.000000</td>\n",
              "      <td>0.000000</td>\n",
              "      <td>0.000000</td>\n",
              "      <td>0.500000</td>\n",
              "      <td>0.000000</td>\n",
              "      <td>0.284261</td>\n",
              "      <td>0.243852</td>\n",
              "      <td>0.000000</td>\n",
              "      <td>0.000000</td>\n",
              "    </tr>\n",
              "    <tr>\n",
              "      <th>50%</th>\n",
              "      <td>0.506334</td>\n",
              "      <td>0.000000</td>\n",
              "      <td>0.548780</td>\n",
              "      <td>0.000000</td>\n",
              "      <td>0.000000</td>\n",
              "      <td>1.000000</td>\n",
              "      <td>0.500000</td>\n",
              "      <td>1.000000</td>\n",
              "      <td>0.338136</td>\n",
              "      <td>0.290984</td>\n",
              "      <td>0.666667</td>\n",
              "      <td>0.000000</td>\n",
              "    </tr>\n",
              "    <tr>\n",
              "      <th>75%</th>\n",
              "      <td>0.749685</td>\n",
              "      <td>0.500000</td>\n",
              "      <td>0.743902</td>\n",
              "      <td>0.000000</td>\n",
              "      <td>0.000000</td>\n",
              "      <td>1.000000</td>\n",
              "      <td>0.750000</td>\n",
              "      <td>1.000000</td>\n",
              "      <td>0.419850</td>\n",
              "      <td>0.336066</td>\n",
              "      <td>0.666667</td>\n",
              "      <td>0.000000</td>\n",
              "    </tr>\n",
              "    <tr>\n",
              "      <th>max</th>\n",
              "      <td>1.000000</td>\n",
              "      <td>1.000000</td>\n",
              "      <td>1.000000</td>\n",
              "      <td>1.000000</td>\n",
              "      <td>1.000000</td>\n",
              "      <td>1.000000</td>\n",
              "      <td>1.000000</td>\n",
              "      <td>1.000000</td>\n",
              "      <td>1.000000</td>\n",
              "      <td>1.000000</td>\n",
              "      <td>1.000000</td>\n",
              "      <td>1.000000</td>\n",
              "    </tr>\n",
              "  </tbody>\n",
              "</table>\n",
              "</div>\n",
              "    <div class=\"colab-df-buttons\">\n",
              "\n",
              "  <div class=\"colab-df-container\">\n",
              "    <button class=\"colab-df-convert\" onclick=\"convertToInteractive('df-917bcce8-fdcf-43f8-8174-825c34f37325')\"\n",
              "            title=\"Convert this dataframe to an interactive table.\"\n",
              "            style=\"display:none;\">\n",
              "\n",
              "  <svg xmlns=\"http://www.w3.org/2000/svg\" height=\"24px\" viewBox=\"0 -960 960 960\">\n",
              "    <path d=\"M120-120v-720h720v720H120Zm60-500h600v-160H180v160Zm220 220h160v-160H400v160Zm0 220h160v-160H400v160ZM180-400h160v-160H180v160Zm440 0h160v-160H620v160ZM180-180h160v-160H180v160Zm440 0h160v-160H620v160Z\"/>\n",
              "  </svg>\n",
              "    </button>\n",
              "\n",
              "  <style>\n",
              "    .colab-df-container {\n",
              "      display:flex;\n",
              "      gap: 12px;\n",
              "    }\n",
              "\n",
              "    .colab-df-convert {\n",
              "      background-color: #E8F0FE;\n",
              "      border: none;\n",
              "      border-radius: 50%;\n",
              "      cursor: pointer;\n",
              "      display: none;\n",
              "      fill: #1967D2;\n",
              "      height: 32px;\n",
              "      padding: 0 0 0 0;\n",
              "      width: 32px;\n",
              "    }\n",
              "\n",
              "    .colab-df-convert:hover {\n",
              "      background-color: #E2EBFA;\n",
              "      box-shadow: 0px 1px 2px rgba(60, 64, 67, 0.3), 0px 1px 3px 1px rgba(60, 64, 67, 0.15);\n",
              "      fill: #174EA6;\n",
              "    }\n",
              "\n",
              "    .colab-df-buttons div {\n",
              "      margin-bottom: 4px;\n",
              "    }\n",
              "\n",
              "    [theme=dark] .colab-df-convert {\n",
              "      background-color: #3B4455;\n",
              "      fill: #D2E3FC;\n",
              "    }\n",
              "\n",
              "    [theme=dark] .colab-df-convert:hover {\n",
              "      background-color: #434B5C;\n",
              "      box-shadow: 0px 1px 3px 1px rgba(0, 0, 0, 0.15);\n",
              "      filter: drop-shadow(0px 1px 2px rgba(0, 0, 0, 0.3));\n",
              "      fill: #FFFFFF;\n",
              "    }\n",
              "  </style>\n",
              "\n",
              "    <script>\n",
              "      const buttonEl =\n",
              "        document.querySelector('#df-917bcce8-fdcf-43f8-8174-825c34f37325 button.colab-df-convert');\n",
              "      buttonEl.style.display =\n",
              "        google.colab.kernel.accessAllowed ? 'block' : 'none';\n",
              "\n",
              "      async function convertToInteractive(key) {\n",
              "        const element = document.querySelector('#df-917bcce8-fdcf-43f8-8174-825c34f37325');\n",
              "        const dataTable =\n",
              "          await google.colab.kernel.invokeFunction('convertToInteractive',\n",
              "                                                    [key], {});\n",
              "        if (!dataTable) return;\n",
              "\n",
              "        const docLinkHtml = 'Like what you see? Visit the ' +\n",
              "          '<a target=\"_blank\" href=https://colab.research.google.com/notebooks/data_table.ipynb>data table notebook</a>'\n",
              "          + ' to learn more about interactive tables.';\n",
              "        element.innerHTML = '';\n",
              "        dataTable['output_type'] = 'display_data';\n",
              "        await google.colab.output.renderOutput(dataTable, element);\n",
              "        const docLink = document.createElement('div');\n",
              "        docLink.innerHTML = docLinkHtml;\n",
              "        element.appendChild(docLink);\n",
              "      }\n",
              "    </script>\n",
              "  </div>\n",
              "\n",
              "\n",
              "<div id=\"df-5002b142-c123-49a6-8c06-8ff7ec4bde97\">\n",
              "  <button class=\"colab-df-quickchart\" onclick=\"quickchart('df-5002b142-c123-49a6-8c06-8ff7ec4bde97')\"\n",
              "            title=\"Suggest charts\"\n",
              "            style=\"display:none;\">\n",
              "\n",
              "<svg xmlns=\"http://www.w3.org/2000/svg\" height=\"24px\"viewBox=\"0 0 24 24\"\n",
              "     width=\"24px\">\n",
              "    <g>\n",
              "        <path d=\"M19 3H5c-1.1 0-2 .9-2 2v14c0 1.1.9 2 2 2h14c1.1 0 2-.9 2-2V5c0-1.1-.9-2-2-2zM9 17H7v-7h2v7zm4 0h-2V7h2v10zm4 0h-2v-4h2v4z\"/>\n",
              "    </g>\n",
              "</svg>\n",
              "  </button>\n",
              "\n",
              "<style>\n",
              "  .colab-df-quickchart {\n",
              "      --bg-color: #E8F0FE;\n",
              "      --fill-color: #1967D2;\n",
              "      --hover-bg-color: #E2EBFA;\n",
              "      --hover-fill-color: #174EA6;\n",
              "      --disabled-fill-color: #AAA;\n",
              "      --disabled-bg-color: #DDD;\n",
              "  }\n",
              "\n",
              "  [theme=dark] .colab-df-quickchart {\n",
              "      --bg-color: #3B4455;\n",
              "      --fill-color: #D2E3FC;\n",
              "      --hover-bg-color: #434B5C;\n",
              "      --hover-fill-color: #FFFFFF;\n",
              "      --disabled-bg-color: #3B4455;\n",
              "      --disabled-fill-color: #666;\n",
              "  }\n",
              "\n",
              "  .colab-df-quickchart {\n",
              "    background-color: var(--bg-color);\n",
              "    border: none;\n",
              "    border-radius: 50%;\n",
              "    cursor: pointer;\n",
              "    display: none;\n",
              "    fill: var(--fill-color);\n",
              "    height: 32px;\n",
              "    padding: 0;\n",
              "    width: 32px;\n",
              "  }\n",
              "\n",
              "  .colab-df-quickchart:hover {\n",
              "    background-color: var(--hover-bg-color);\n",
              "    box-shadow: 0 1px 2px rgba(60, 64, 67, 0.3), 0 1px 3px 1px rgba(60, 64, 67, 0.15);\n",
              "    fill: var(--button-hover-fill-color);\n",
              "  }\n",
              "\n",
              "  .colab-df-quickchart-complete:disabled,\n",
              "  .colab-df-quickchart-complete:disabled:hover {\n",
              "    background-color: var(--disabled-bg-color);\n",
              "    fill: var(--disabled-fill-color);\n",
              "    box-shadow: none;\n",
              "  }\n",
              "\n",
              "  .colab-df-spinner {\n",
              "    border: 2px solid var(--fill-color);\n",
              "    border-color: transparent;\n",
              "    border-bottom-color: var(--fill-color);\n",
              "    animation:\n",
              "      spin 1s steps(1) infinite;\n",
              "  }\n",
              "\n",
              "  @keyframes spin {\n",
              "    0% {\n",
              "      border-color: transparent;\n",
              "      border-bottom-color: var(--fill-color);\n",
              "      border-left-color: var(--fill-color);\n",
              "    }\n",
              "    20% {\n",
              "      border-color: transparent;\n",
              "      border-left-color: var(--fill-color);\n",
              "      border-top-color: var(--fill-color);\n",
              "    }\n",
              "    30% {\n",
              "      border-color: transparent;\n",
              "      border-left-color: var(--fill-color);\n",
              "      border-top-color: var(--fill-color);\n",
              "      border-right-color: var(--fill-color);\n",
              "    }\n",
              "    40% {\n",
              "      border-color: transparent;\n",
              "      border-right-color: var(--fill-color);\n",
              "      border-top-color: var(--fill-color);\n",
              "    }\n",
              "    60% {\n",
              "      border-color: transparent;\n",
              "      border-right-color: var(--fill-color);\n",
              "    }\n",
              "    80% {\n",
              "      border-color: transparent;\n",
              "      border-right-color: var(--fill-color);\n",
              "      border-bottom-color: var(--fill-color);\n",
              "    }\n",
              "    90% {\n",
              "      border-color: transparent;\n",
              "      border-bottom-color: var(--fill-color);\n",
              "    }\n",
              "  }\n",
              "</style>\n",
              "\n",
              "  <script>\n",
              "    async function quickchart(key) {\n",
              "      const quickchartButtonEl =\n",
              "        document.querySelector('#' + key + ' button');\n",
              "      quickchartButtonEl.disabled = true;  // To prevent multiple clicks.\n",
              "      quickchartButtonEl.classList.add('colab-df-spinner');\n",
              "      try {\n",
              "        const charts = await google.colab.kernel.invokeFunction(\n",
              "            'suggestCharts', [key], {});\n",
              "      } catch (error) {\n",
              "        console.error('Error during call to suggestCharts:', error);\n",
              "      }\n",
              "      quickchartButtonEl.classList.remove('colab-df-spinner');\n",
              "      quickchartButtonEl.classList.add('colab-df-quickchart-complete');\n",
              "    }\n",
              "    (() => {\n",
              "      let quickchartButtonEl =\n",
              "        document.querySelector('#df-5002b142-c123-49a6-8c06-8ff7ec4bde97 button');\n",
              "      quickchartButtonEl.style.display =\n",
              "        google.colab.kernel.accessAllowed ? 'block' : 'none';\n",
              "    })();\n",
              "  </script>\n",
              "</div>\n",
              "    </div>\n",
              "  </div>\n"
            ]
          },
          "metadata": {},
          "execution_count": 15
        }
      ],
      "source": [
        "data = data / data.max()\n",
        "\n",
        "data.describe()"
      ]
    },
    {
      "cell_type": "markdown",
      "metadata": {
        "id": "KICuY0lg5nUD"
      },
      "source": [
        "### Removing Unnecessary Features"
      ]
    },
    {
      "cell_type": "markdown",
      "metadata": {
        "id": "ua71U2YxL5Ls"
      },
      "source": [
        "**Question 7:** From the features that you have, remove the feature(s) that is(are) irrelevant to your predictions."
      ]
    },
    {
      "cell_type": "code",
      "execution_count": 16,
      "metadata": {
        "id": "8AHNqYbh5sE7"
      },
      "outputs": [],
      "source": [
        "data = data.drop( ['id','Residence_type', 'work_type', 'ever_married', 'gender'], axis=1)"
      ]
    },
    {
      "cell_type": "code",
      "execution_count": 17,
      "metadata": {
        "colab": {
          "base_uri": "https://localhost:8080/",
          "height": 0
        },
        "id": "3vkNGmZYoOh3",
        "outputId": "dc003d88-3b74-4872-94dd-03822be2a04b"
      },
      "outputs": [
        {
          "output_type": "execute_result",
          "data": {
            "text/plain": [
              "        age  hypertension  heart_disease  avg_glucose_level       bmi  \\\n",
              "0  0.817073           0.0            1.0           0.841577  0.375000   \n",
              "1  0.743902           0.0            0.0           0.744130  0.296037   \n",
              "2  0.975610           0.0            1.0           0.389784  0.332992   \n",
              "3  0.597561           0.0            0.0           0.630124  0.352459   \n",
              "4  0.963415           1.0            0.0           0.640760  0.245902   \n",
              "\n",
              "   smoking_status  stroke  \n",
              "0        0.333333     1.0  \n",
              "1        0.666667     1.0  \n",
              "2        0.666667     1.0  \n",
              "3        1.000000     1.0  \n",
              "4        0.666667     1.0  "
            ],
            "text/html": [
              "\n",
              "  <div id=\"df-af5b4b29-acf0-4e03-81f0-82bc6936facf\" class=\"colab-df-container\">\n",
              "    <div>\n",
              "<style scoped>\n",
              "    .dataframe tbody tr th:only-of-type {\n",
              "        vertical-align: middle;\n",
              "    }\n",
              "\n",
              "    .dataframe tbody tr th {\n",
              "        vertical-align: top;\n",
              "    }\n",
              "\n",
              "    .dataframe thead th {\n",
              "        text-align: right;\n",
              "    }\n",
              "</style>\n",
              "<table border=\"1\" class=\"dataframe\">\n",
              "  <thead>\n",
              "    <tr style=\"text-align: right;\">\n",
              "      <th></th>\n",
              "      <th>age</th>\n",
              "      <th>hypertension</th>\n",
              "      <th>heart_disease</th>\n",
              "      <th>avg_glucose_level</th>\n",
              "      <th>bmi</th>\n",
              "      <th>smoking_status</th>\n",
              "      <th>stroke</th>\n",
              "    </tr>\n",
              "  </thead>\n",
              "  <tbody>\n",
              "    <tr>\n",
              "      <th>0</th>\n",
              "      <td>0.817073</td>\n",
              "      <td>0.0</td>\n",
              "      <td>1.0</td>\n",
              "      <td>0.841577</td>\n",
              "      <td>0.375000</td>\n",
              "      <td>0.333333</td>\n",
              "      <td>1.0</td>\n",
              "    </tr>\n",
              "    <tr>\n",
              "      <th>1</th>\n",
              "      <td>0.743902</td>\n",
              "      <td>0.0</td>\n",
              "      <td>0.0</td>\n",
              "      <td>0.744130</td>\n",
              "      <td>0.296037</td>\n",
              "      <td>0.666667</td>\n",
              "      <td>1.0</td>\n",
              "    </tr>\n",
              "    <tr>\n",
              "      <th>2</th>\n",
              "      <td>0.975610</td>\n",
              "      <td>0.0</td>\n",
              "      <td>1.0</td>\n",
              "      <td>0.389784</td>\n",
              "      <td>0.332992</td>\n",
              "      <td>0.666667</td>\n",
              "      <td>1.0</td>\n",
              "    </tr>\n",
              "    <tr>\n",
              "      <th>3</th>\n",
              "      <td>0.597561</td>\n",
              "      <td>0.0</td>\n",
              "      <td>0.0</td>\n",
              "      <td>0.630124</td>\n",
              "      <td>0.352459</td>\n",
              "      <td>1.000000</td>\n",
              "      <td>1.0</td>\n",
              "    </tr>\n",
              "    <tr>\n",
              "      <th>4</th>\n",
              "      <td>0.963415</td>\n",
              "      <td>1.0</td>\n",
              "      <td>0.0</td>\n",
              "      <td>0.640760</td>\n",
              "      <td>0.245902</td>\n",
              "      <td>0.666667</td>\n",
              "      <td>1.0</td>\n",
              "    </tr>\n",
              "  </tbody>\n",
              "</table>\n",
              "</div>\n",
              "    <div class=\"colab-df-buttons\">\n",
              "\n",
              "  <div class=\"colab-df-container\">\n",
              "    <button class=\"colab-df-convert\" onclick=\"convertToInteractive('df-af5b4b29-acf0-4e03-81f0-82bc6936facf')\"\n",
              "            title=\"Convert this dataframe to an interactive table.\"\n",
              "            style=\"display:none;\">\n",
              "\n",
              "  <svg xmlns=\"http://www.w3.org/2000/svg\" height=\"24px\" viewBox=\"0 -960 960 960\">\n",
              "    <path d=\"M120-120v-720h720v720H120Zm60-500h600v-160H180v160Zm220 220h160v-160H400v160Zm0 220h160v-160H400v160ZM180-400h160v-160H180v160Zm440 0h160v-160H620v160ZM180-180h160v-160H180v160Zm440 0h160v-160H620v160Z\"/>\n",
              "  </svg>\n",
              "    </button>\n",
              "\n",
              "  <style>\n",
              "    .colab-df-container {\n",
              "      display:flex;\n",
              "      gap: 12px;\n",
              "    }\n",
              "\n",
              "    .colab-df-convert {\n",
              "      background-color: #E8F0FE;\n",
              "      border: none;\n",
              "      border-radius: 50%;\n",
              "      cursor: pointer;\n",
              "      display: none;\n",
              "      fill: #1967D2;\n",
              "      height: 32px;\n",
              "      padding: 0 0 0 0;\n",
              "      width: 32px;\n",
              "    }\n",
              "\n",
              "    .colab-df-convert:hover {\n",
              "      background-color: #E2EBFA;\n",
              "      box-shadow: 0px 1px 2px rgba(60, 64, 67, 0.3), 0px 1px 3px 1px rgba(60, 64, 67, 0.15);\n",
              "      fill: #174EA6;\n",
              "    }\n",
              "\n",
              "    .colab-df-buttons div {\n",
              "      margin-bottom: 4px;\n",
              "    }\n",
              "\n",
              "    [theme=dark] .colab-df-convert {\n",
              "      background-color: #3B4455;\n",
              "      fill: #D2E3FC;\n",
              "    }\n",
              "\n",
              "    [theme=dark] .colab-df-convert:hover {\n",
              "      background-color: #434B5C;\n",
              "      box-shadow: 0px 1px 3px 1px rgba(0, 0, 0, 0.15);\n",
              "      filter: drop-shadow(0px 1px 2px rgba(0, 0, 0, 0.3));\n",
              "      fill: #FFFFFF;\n",
              "    }\n",
              "  </style>\n",
              "\n",
              "    <script>\n",
              "      const buttonEl =\n",
              "        document.querySelector('#df-af5b4b29-acf0-4e03-81f0-82bc6936facf button.colab-df-convert');\n",
              "      buttonEl.style.display =\n",
              "        google.colab.kernel.accessAllowed ? 'block' : 'none';\n",
              "\n",
              "      async function convertToInteractive(key) {\n",
              "        const element = document.querySelector('#df-af5b4b29-acf0-4e03-81f0-82bc6936facf');\n",
              "        const dataTable =\n",
              "          await google.colab.kernel.invokeFunction('convertToInteractive',\n",
              "                                                    [key], {});\n",
              "        if (!dataTable) return;\n",
              "\n",
              "        const docLinkHtml = 'Like what you see? Visit the ' +\n",
              "          '<a target=\"_blank\" href=https://colab.research.google.com/notebooks/data_table.ipynb>data table notebook</a>'\n",
              "          + ' to learn more about interactive tables.';\n",
              "        element.innerHTML = '';\n",
              "        dataTable['output_type'] = 'display_data';\n",
              "        await google.colab.output.renderOutput(dataTable, element);\n",
              "        const docLink = document.createElement('div');\n",
              "        docLink.innerHTML = docLinkHtml;\n",
              "        element.appendChild(docLink);\n",
              "      }\n",
              "    </script>\n",
              "  </div>\n",
              "\n",
              "\n",
              "<div id=\"df-f3b7eb32-21bd-4672-947f-8db1f4b44eac\">\n",
              "  <button class=\"colab-df-quickchart\" onclick=\"quickchart('df-f3b7eb32-21bd-4672-947f-8db1f4b44eac')\"\n",
              "            title=\"Suggest charts\"\n",
              "            style=\"display:none;\">\n",
              "\n",
              "<svg xmlns=\"http://www.w3.org/2000/svg\" height=\"24px\"viewBox=\"0 0 24 24\"\n",
              "     width=\"24px\">\n",
              "    <g>\n",
              "        <path d=\"M19 3H5c-1.1 0-2 .9-2 2v14c0 1.1.9 2 2 2h14c1.1 0 2-.9 2-2V5c0-1.1-.9-2-2-2zM9 17H7v-7h2v7zm4 0h-2V7h2v10zm4 0h-2v-4h2v4z\"/>\n",
              "    </g>\n",
              "</svg>\n",
              "  </button>\n",
              "\n",
              "<style>\n",
              "  .colab-df-quickchart {\n",
              "      --bg-color: #E8F0FE;\n",
              "      --fill-color: #1967D2;\n",
              "      --hover-bg-color: #E2EBFA;\n",
              "      --hover-fill-color: #174EA6;\n",
              "      --disabled-fill-color: #AAA;\n",
              "      --disabled-bg-color: #DDD;\n",
              "  }\n",
              "\n",
              "  [theme=dark] .colab-df-quickchart {\n",
              "      --bg-color: #3B4455;\n",
              "      --fill-color: #D2E3FC;\n",
              "      --hover-bg-color: #434B5C;\n",
              "      --hover-fill-color: #FFFFFF;\n",
              "      --disabled-bg-color: #3B4455;\n",
              "      --disabled-fill-color: #666;\n",
              "  }\n",
              "\n",
              "  .colab-df-quickchart {\n",
              "    background-color: var(--bg-color);\n",
              "    border: none;\n",
              "    border-radius: 50%;\n",
              "    cursor: pointer;\n",
              "    display: none;\n",
              "    fill: var(--fill-color);\n",
              "    height: 32px;\n",
              "    padding: 0;\n",
              "    width: 32px;\n",
              "  }\n",
              "\n",
              "  .colab-df-quickchart:hover {\n",
              "    background-color: var(--hover-bg-color);\n",
              "    box-shadow: 0 1px 2px rgba(60, 64, 67, 0.3), 0 1px 3px 1px rgba(60, 64, 67, 0.15);\n",
              "    fill: var(--button-hover-fill-color);\n",
              "  }\n",
              "\n",
              "  .colab-df-quickchart-complete:disabled,\n",
              "  .colab-df-quickchart-complete:disabled:hover {\n",
              "    background-color: var(--disabled-bg-color);\n",
              "    fill: var(--disabled-fill-color);\n",
              "    box-shadow: none;\n",
              "  }\n",
              "\n",
              "  .colab-df-spinner {\n",
              "    border: 2px solid var(--fill-color);\n",
              "    border-color: transparent;\n",
              "    border-bottom-color: var(--fill-color);\n",
              "    animation:\n",
              "      spin 1s steps(1) infinite;\n",
              "  }\n",
              "\n",
              "  @keyframes spin {\n",
              "    0% {\n",
              "      border-color: transparent;\n",
              "      border-bottom-color: var(--fill-color);\n",
              "      border-left-color: var(--fill-color);\n",
              "    }\n",
              "    20% {\n",
              "      border-color: transparent;\n",
              "      border-left-color: var(--fill-color);\n",
              "      border-top-color: var(--fill-color);\n",
              "    }\n",
              "    30% {\n",
              "      border-color: transparent;\n",
              "      border-left-color: var(--fill-color);\n",
              "      border-top-color: var(--fill-color);\n",
              "      border-right-color: var(--fill-color);\n",
              "    }\n",
              "    40% {\n",
              "      border-color: transparent;\n",
              "      border-right-color: var(--fill-color);\n",
              "      border-top-color: var(--fill-color);\n",
              "    }\n",
              "    60% {\n",
              "      border-color: transparent;\n",
              "      border-right-color: var(--fill-color);\n",
              "    }\n",
              "    80% {\n",
              "      border-color: transparent;\n",
              "      border-right-color: var(--fill-color);\n",
              "      border-bottom-color: var(--fill-color);\n",
              "    }\n",
              "    90% {\n",
              "      border-color: transparent;\n",
              "      border-bottom-color: var(--fill-color);\n",
              "    }\n",
              "  }\n",
              "</style>\n",
              "\n",
              "  <script>\n",
              "    async function quickchart(key) {\n",
              "      const quickchartButtonEl =\n",
              "        document.querySelector('#' + key + ' button');\n",
              "      quickchartButtonEl.disabled = true;  // To prevent multiple clicks.\n",
              "      quickchartButtonEl.classList.add('colab-df-spinner');\n",
              "      try {\n",
              "        const charts = await google.colab.kernel.invokeFunction(\n",
              "            'suggestCharts', [key], {});\n",
              "      } catch (error) {\n",
              "        console.error('Error during call to suggestCharts:', error);\n",
              "      }\n",
              "      quickchartButtonEl.classList.remove('colab-df-spinner');\n",
              "      quickchartButtonEl.classList.add('colab-df-quickchart-complete');\n",
              "    }\n",
              "    (() => {\n",
              "      let quickchartButtonEl =\n",
              "        document.querySelector('#df-f3b7eb32-21bd-4672-947f-8db1f4b44eac button');\n",
              "      quickchartButtonEl.style.display =\n",
              "        google.colab.kernel.accessAllowed ? 'block' : 'none';\n",
              "    })();\n",
              "  </script>\n",
              "</div>\n",
              "    </div>\n",
              "  </div>\n"
            ]
          },
          "metadata": {},
          "execution_count": 17
        }
      ],
      "source": [
        "data.head()"
      ]
    },
    {
      "cell_type": "markdown",
      "metadata": {
        "id": "5k-KoLpH5C9R"
      },
      "source": [
        "# Building the DL Model"
      ]
    },
    {
      "cell_type": "markdown",
      "metadata": {
        "id": "uI2VtlafMBeN"
      },
      "source": [
        "**Question 8:** Now it's time to build the actual model, and observe a summary of it."
      ]
    },
    {
      "cell_type": "code",
      "execution_count": 18,
      "metadata": {
        "id": "AZvKqqT65E0W",
        "colab": {
          "base_uri": "https://localhost:8080/"
        },
        "outputId": "cd0b78ff-3431-4d73-81de-6cd091c5843c"
      },
      "outputs": [
        {
          "output_type": "stream",
          "name": "stdout",
          "text": [
            "Model: \"sequential\"\n",
            "_________________________________________________________________\n",
            " Layer (type)                Output Shape              Param #   \n",
            "=================================================================\n",
            " dense (Dense)               (None, 64)                448       \n",
            "                                                                 \n",
            " dense_1 (Dense)             (None, 32)                2080      \n",
            "                                                                 \n",
            " dense_2 (Dense)             (None, 16)                528       \n",
            "                                                                 \n",
            " dense_3 (Dense)             (None, 1)                 17        \n",
            "                                                                 \n",
            "=================================================================\n",
            "Total params: 3073 (12.00 KB)\n",
            "Trainable params: 3073 (12.00 KB)\n",
            "Non-trainable params: 0 (0.00 Byte)\n",
            "_________________________________________________________________\n"
          ]
        }
      ],
      "source": [
        "import tensorflow as tf\n",
        "from tensorflow.keras.models import Sequential\n",
        "from tensorflow.keras.layers import Dense\n",
        "\n",
        "\n",
        "model = Sequential()\n",
        "\n",
        "model.add(Dense(units=64, activation='relu', input_dim=data.shape[1] - 1))\n",
        "model.add(Dense(units=32, activation='relu'))\n",
        "model.add(Dense(units=16, activation='relu'))\n",
        "model.add(Dense(units=1, activation='sigmoid'))\n",
        "\n",
        "model.summary()"
      ]
    },
    {
      "cell_type": "markdown",
      "metadata": {
        "id": "AD57fE2n7QP4"
      },
      "source": [
        "### Compiling the model"
      ]
    },
    {
      "cell_type": "markdown",
      "metadata": {
        "id": "seGmh1x1-qH9"
      },
      "source": [
        "**Question 9:**  Now we compile the model. Here we want to measure the accuracy as well as the precision and recall to know better about the performance of our model."
      ]
    },
    {
      "cell_type": "code",
      "execution_count": 19,
      "metadata": {
        "id": "woSsSTEm61_U"
      },
      "outputs": [],
      "source": [
        "model.compile(optimizer='adam', loss='binary_crossentropy', metrics=['accuracy'])"
      ]
    },
    {
      "cell_type": "markdown",
      "metadata": {
        "id": "U5zevRH57X8v"
      },
      "source": [
        "### Fitting the model"
      ]
    },
    {
      "cell_type": "markdown",
      "metadata": {
        "id": "UhaEU26KMUWK"
      },
      "source": [
        "**Question 10:** Split the data and train the model\n",
        "\n",
        "We take the first columns as features and the last column as a label, then we split our dataset between training (70%) and testing (30%)."
      ]
    },
    {
      "cell_type": "code",
      "execution_count": 20,
      "metadata": {
        "id": "rsVOVfn47MLn"
      },
      "outputs": [],
      "source": [
        "from sklearn.model_selection import train_test_split\n",
        "x = data.drop('stroke', axis=1)\n",
        "y = data['stroke']\n",
        "\n",
        "x_train, x_val, y_train, y_val = train_test_split(x, y, test_size=0.3, stratify=y)"
      ]
    },
    {
      "cell_type": "markdown",
      "metadata": {
        "id": "LVvxbyPyezb3"
      },
      "source": [
        "we fit the model on 80% training data, and validate on the rest. Later we will do the final test on the test data. The training happens for 15 epochs."
      ]
    },
    {
      "cell_type": "code",
      "execution_count": 21,
      "metadata": {
        "id": "KrlvFubpqBeS",
        "colab": {
          "base_uri": "https://localhost:8080/"
        },
        "outputId": "7696f2ff-c246-46eb-b631-1b6c4767bbe3"
      },
      "outputs": [
        {
          "output_type": "stream",
          "name": "stdout",
          "text": [
            "Epoch 1/15\n",
            "112/112 [==============================] - 2s 7ms/step - loss: 0.3118 - accuracy: 0.9514 - val_loss: 0.2091 - val_accuracy: 0.9511\n",
            "Epoch 2/15\n",
            "112/112 [==============================] - 1s 5ms/step - loss: 0.1850 - accuracy: 0.9514 - val_loss: 0.1858 - val_accuracy: 0.9511\n",
            "Epoch 3/15\n",
            "112/112 [==============================] - 0s 4ms/step - loss: 0.1665 - accuracy: 0.9514 - val_loss: 0.1748 - val_accuracy: 0.9511\n",
            "Epoch 4/15\n",
            "112/112 [==============================] - 0s 4ms/step - loss: 0.1594 - accuracy: 0.9514 - val_loss: 0.1729 - val_accuracy: 0.9511\n",
            "Epoch 5/15\n",
            "112/112 [==============================] - 1s 5ms/step - loss: 0.1554 - accuracy: 0.9514 - val_loss: 0.1740 - val_accuracy: 0.9511\n",
            "Epoch 6/15\n",
            "112/112 [==============================] - 1s 5ms/step - loss: 0.1564 - accuracy: 0.9514 - val_loss: 0.1745 - val_accuracy: 0.9511\n",
            "Epoch 7/15\n",
            "112/112 [==============================] - 1s 5ms/step - loss: 0.1536 - accuracy: 0.9514 - val_loss: 0.1699 - val_accuracy: 0.9511\n",
            "Epoch 8/15\n",
            "112/112 [==============================] - 0s 4ms/step - loss: 0.1527 - accuracy: 0.9514 - val_loss: 0.1749 - val_accuracy: 0.9511\n",
            "Epoch 9/15\n",
            "112/112 [==============================] - 0s 4ms/step - loss: 0.1547 - accuracy: 0.9514 - val_loss: 0.1715 - val_accuracy: 0.9511\n",
            "Epoch 10/15\n",
            "112/112 [==============================] - 0s 4ms/step - loss: 0.1535 - accuracy: 0.9514 - val_loss: 0.1725 - val_accuracy: 0.9511\n",
            "Epoch 11/15\n",
            "112/112 [==============================] - 1s 4ms/step - loss: 0.1537 - accuracy: 0.9514 - val_loss: 0.1716 - val_accuracy: 0.9511\n",
            "Epoch 12/15\n",
            "112/112 [==============================] - 0s 3ms/step - loss: 0.1513 - accuracy: 0.9514 - val_loss: 0.1718 - val_accuracy: 0.9511\n",
            "Epoch 13/15\n",
            "112/112 [==============================] - 0s 4ms/step - loss: 0.1519 - accuracy: 0.9514 - val_loss: 0.1711 - val_accuracy: 0.9511\n",
            "Epoch 14/15\n",
            "112/112 [==============================] - 1s 5ms/step - loss: 0.1508 - accuracy: 0.9514 - val_loss: 0.1724 - val_accuracy: 0.9511\n",
            "Epoch 15/15\n",
            "112/112 [==============================] - 1s 5ms/step - loss: 0.1524 - accuracy: 0.9514 - val_loss: 0.1775 - val_accuracy: 0.9511\n"
          ]
        }
      ],
      "source": [
        "history = model.fit(x_train, y_train, validation_data=(x_val, y_val), epochs=15)"
      ]
    },
    {
      "cell_type": "markdown",
      "metadata": {
        "id": "voqUo00lAqCZ"
      },
      "source": [
        "# Improving DL Models"
      ]
    },
    {
      "cell_type": "markdown",
      "metadata": {
        "id": "Op2Frp44uSiX"
      },
      "source": [
        "**Question 11:** Suggest ways to improve your model"
      ]
    },
    {
      "cell_type": "markdown",
      "metadata": {
        "id": "IImSYWQGBSz6"
      },
      "source": [
        "### Checking For Data Imbalance"
      ]
    },
    {
      "cell_type": "markdown",
      "metadata": {
        "id": "ZHxCONODMkNN"
      },
      "source": [
        "We check for imbalance because we have a poor recall and precision."
      ]
    },
    {
      "cell_type": "code",
      "execution_count": 22,
      "metadata": {
        "id": "1bF6G8c58SOE",
        "colab": {
          "base_uri": "https://localhost:8080/"
        },
        "outputId": "c04cc108-5642-4769-83b5-ae155450ed88"
      },
      "outputs": [
        {
          "output_type": "stream",
          "name": "stdout",
          "text": [
            "Counter({0.0: 3403, 1.0: 174})\n"
          ]
        }
      ],
      "source": [
        "from collections import Counter\n",
        "\n",
        "class_counts = Counter(y_train)\n",
        "\n",
        "print(class_counts)"
      ]
    },
    {
      "cell_type": "markdown",
      "metadata": {
        "id": "gzZBB5GMCOld"
      },
      "source": [
        "We have a huge imbalance in the data, this is why we fix it with oversamppling and undersampling.\n",
        "\n",
        "We will oversample this time using the SMOTE() function instead of random oversampling, and this is because SMOTE will generate new data based on the data that we have, so we avoid overfitting."
      ]
    },
    {
      "cell_type": "code",
      "execution_count": 23,
      "metadata": {
        "id": "US4xON4LBX8I",
        "colab": {
          "base_uri": "https://localhost:8080/",
          "height": 499
        },
        "outputId": "96a35d44-850b-4ea5-9a1a-ee85fc97363d"
      },
      "outputs": [
        {
          "output_type": "execute_result",
          "data": {
            "text/plain": [
              "(array([3403.,    0.,    0.,    0.,    0.,    0.,    0.,    0.,    0.,\n",
              "        3403.]),\n",
              " array([0. , 0.1, 0.2, 0.3, 0.4, 0.5, 0.6, 0.7, 0.8, 0.9, 1. ]),\n",
              " <BarContainer object of 10 artists>)"
            ]
          },
          "metadata": {},
          "execution_count": 23
        },
        {
          "output_type": "display_data",
          "data": {
            "text/plain": [
              "<Figure size 640x480 with 1 Axes>"
            ],
            "image/png": "[encoded data removed]"
          },
          "metadata": {}
        }
      ],
      "source": [
        "from imblearn.over_sampling import SMOTE\n",
        "\n",
        "over = SMOTE()\n",
        "\n",
        "x_new, y_new = over.fit_resample(x_train, y_train)\n",
        "\n",
        "plt.hist([y_new])"
      ]
    },
    {
      "cell_type": "markdown",
      "metadata": {
        "id": "OmfeUhi1ezb9"
      },
      "source": [
        "Split the balanced dataset between 90% (training and validation), 10% testing\n",
        "Then divide the 90% between 80% training and 20% validation"
      ]
    },
    {
      "cell_type": "code",
      "execution_count": 24,
      "metadata": {
        "id": "IxnYFoPZezb-"
      },
      "outputs": [],
      "source": [
        "from sklearn.model_selection import train_test_split\n",
        "\n",
        "\n",
        "x_train_val, x_test, y_train_val, y_test = train_test_split(x_new, y_new, test_size=0.1, stratify=y_new)\n",
        "x_train, x_val, y_train, y_val = train_test_split(x_train_val, y_train_val, test_size=0.2, stratify=y_train_val)"
      ]
    },
    {
      "cell_type": "markdown",
      "metadata": {
        "id": "dgyxF74oezcA"
      },
      "source": [
        "Now we will train the model on the balanced data, and tune it on the validation set"
      ]
    },
    {
      "cell_type": "code",
      "execution_count": 25,
      "metadata": {
        "id": "26YTispLEm9N",
        "colab": {
          "base_uri": "https://localhost:8080/"
        },
        "outputId": "591fcd04-9d44-4918-c087-29142c50b7e7"
      },
      "outputs": [
        {
          "output_type": "stream",
          "name": "stdout",
          "text": [
            "Epoch 1/15\n",
            "154/154 [==============================] - 1s 3ms/step - loss: 0.4812 - accuracy: 0.7600 - val_loss: 0.4368 - val_accuracy: 0.7869\n",
            "Epoch 2/15\n",
            "154/154 [==============================] - 0s 3ms/step - loss: 0.4160 - accuracy: 0.7988 - val_loss: 0.4360 - val_accuracy: 0.7837\n",
            "Epoch 3/15\n",
            "154/154 [==============================] - 1s 4ms/step - loss: 0.4079 - accuracy: 0.8006 - val_loss: 0.4253 - val_accuracy: 0.8008\n",
            "Epoch 4/15\n",
            "154/154 [==============================] - 0s 3ms/step - loss: 0.4069 - accuracy: 0.8022 - val_loss: 0.4238 - val_accuracy: 0.7992\n",
            "Epoch 5/15\n",
            "154/154 [==============================] - 1s 4ms/step - loss: 0.4034 - accuracy: 0.8076 - val_loss: 0.4200 - val_accuracy: 0.8000\n",
            "Epoch 6/15\n",
            "154/154 [==============================] - 0s 3ms/step - loss: 0.4000 - accuracy: 0.8055 - val_loss: 0.4173 - val_accuracy: 0.7951\n",
            "Epoch 7/15\n",
            "154/154 [==============================] - 1s 4ms/step - loss: 0.3997 - accuracy: 0.8069 - val_loss: 0.4180 - val_accuracy: 0.7976\n",
            "Epoch 8/15\n",
            "154/154 [==============================] - 0s 3ms/step - loss: 0.3987 - accuracy: 0.8065 - val_loss: 0.4174 - val_accuracy: 0.7984\n",
            "Epoch 9/15\n",
            "154/154 [==============================] - 0s 3ms/step - loss: 0.3947 - accuracy: 0.8053 - val_loss: 0.4160 - val_accuracy: 0.7976\n",
            "Epoch 10/15\n",
            "154/154 [==============================] - 0s 3ms/step - loss: 0.3952 - accuracy: 0.8084 - val_loss: 0.4141 - val_accuracy: 0.7967\n",
            "Epoch 11/15\n",
            "154/154 [==============================] - 1s 3ms/step - loss: 0.3934 - accuracy: 0.8122 - val_loss: 0.4093 - val_accuracy: 0.8000\n",
            "Epoch 12/15\n",
            "154/154 [==============================] - 0s 3ms/step - loss: 0.3923 - accuracy: 0.8151 - val_loss: 0.4076 - val_accuracy: 0.7967\n",
            "Epoch 13/15\n",
            "154/154 [==============================] - 0s 3ms/step - loss: 0.3916 - accuracy: 0.8106 - val_loss: 0.4106 - val_accuracy: 0.7943\n",
            "Epoch 14/15\n",
            "154/154 [==============================] - 0s 3ms/step - loss: 0.3900 - accuracy: 0.8131 - val_loss: 0.4091 - val_accuracy: 0.8008\n",
            "Epoch 15/15\n",
            "154/154 [==============================] - 0s 3ms/step - loss: 0.3876 - accuracy: 0.8147 - val_loss: 0.4153 - val_accuracy: 0.8008\n"
          ]
        }
      ],
      "source": [
        "history = model.fit(x_train, y_train, validation_data=(x_val, y_val), epochs=15)"
      ]
    },
    {
      "cell_type": "markdown",
      "metadata": {
        "id": "wAhUAu5JezcC"
      },
      "source": [
        "Evaluate your model on the test set that you kept aside at the beginning."
      ]
    },
    {
      "cell_type": "code",
      "execution_count": 26,
      "metadata": {
        "id": "utTyIgJLezcD",
        "colab": {
          "base_uri": "https://localhost:8080/"
        },
        "outputId": "51bf09c7-b15f-4a64-e5fe-8100c9b0879c"
      },
      "outputs": [
        {
          "output_type": "stream",
          "name": "stdout",
          "text": [
            "22/22 [==============================] - 0s 2ms/step - loss: 0.3958 - accuracy: 0.7988\n"
          ]
        },
        {
          "output_type": "execute_result",
          "data": {
            "text/plain": [
              "[0.39578691124916077, 0.7988252639770508]"
            ]
          },
          "metadata": {},
          "execution_count": 26
        }
      ],
      "source": [
        "model.evaluate(x_test, y_test)"
      ]
    },
    {
      "cell_type": "markdown",
      "metadata": {
        "id": "hhfhpIaWGtz2"
      },
      "source": [
        "We see that the performance gets better when our data became balanced.\n",
        "Now we will try improving our model with other techniques that we learned through the week."
      ]
    },
    {
      "cell_type": "markdown",
      "metadata": {
        "id": "ngJVLbRKG7U_"
      },
      "source": [
        "### Model Design"
      ]
    },
    {
      "cell_type": "markdown",
      "metadata": {
        "id": "sMdcXspCHxIo"
      },
      "source": [
        "We will introduce batch normalization after each layer and then train the model"
      ]
    },
    {
      "cell_type": "code",
      "execution_count": 27,
      "metadata": {
        "id": "yK78-g-hHrmq",
        "colab": {
          "base_uri": "https://localhost:8080/"
        },
        "outputId": "d31f2465-9932-469e-8443-52f3dbd37a06"
      },
      "outputs": [
        {
          "output_type": "stream",
          "name": "stdout",
          "text": [
            "Model: \"sequential_1\"\n",
            "_________________________________________________________________\n",
            " Layer (type)                Output Shape              Param #   \n",
            "=================================================================\n",
            " dense_4 (Dense)             (None, 32)                224       \n",
            "                                                                 \n",
            " batch_normalization (Batch  (None, 32)                128       \n",
            " Normalization)                                                  \n",
            "                                                                 \n",
            " dense_5 (Dense)             (None, 16)                528       \n",
            "                                                                 \n",
            " batch_normalization_1 (Bat  (None, 16)                64        \n",
            " chNormalization)                                                \n",
            "                                                                 \n",
            " dense_6 (Dense)             (None, 8)                 136       \n",
            "                                                                 \n",
            " batch_normalization_2 (Bat  (None, 8)                 32        \n",
            " chNormalization)                                                \n",
            "                                                                 \n",
            " dense_7 (Dense)             (None, 4)                 36        \n",
            "                                                                 \n",
            " batch_normalization_3 (Bat  (None, 4)                 16        \n",
            " chNormalization)                                                \n",
            "                                                                 \n",
            " dense_8 (Dense)             (None, 2)                 10        \n",
            "                                                                 \n",
            " batch_normalization_4 (Bat  (None, 2)                 8         \n",
            " chNormalization)                                                \n",
            "                                                                 \n",
            " dense_9 (Dense)             (None, 1)                 3         \n",
            "                                                                 \n",
            "=================================================================\n",
            "Total params: 1185 (4.63 KB)\n",
            "Trainable params: 1061 (4.14 KB)\n",
            "Non-trainable params: 124 (496.00 Byte)\n",
            "_________________________________________________________________\n"
          ]
        }
      ],
      "source": [
        "from tensorflow.keras.layers import BatchNormalization\n",
        "model = Sequential()\n",
        "#the \"input_dim=6\" it suppose to be \"input_dim=10\" but error accure that said :\n",
        "#ValueError: Input 0 of layer \"sequential_1\" is incompatible with the layer: expected shape=(None, 10), found shape=(None, 6)\n",
        "#So I changed input_dim=10 to input_dim=6\n",
        "\n",
        "model.add(Dense(32, input_dim=6, activation='relu'))\n",
        "model.add(BatchNormalization())\n",
        "model.add(Dense(16, activation='relu'))\n",
        "model.add(BatchNormalization())\n",
        "model.add(Dense(8, activation='relu'))\n",
        "model.add(BatchNormalization())\n",
        "model.add(Dense(4, activation='relu'))\n",
        "model.add(BatchNormalization())\n",
        "model.add(Dense(2, activation='relu'))\n",
        "model.add(BatchNormalization())\n",
        "model.add(Dense(1, activation='sigmoid'))\n",
        "\n",
        "model.summary()\n"
      ]
    },
    {
      "cell_type": "code",
      "execution_count": 28,
      "metadata": {
        "id": "REDrQVWLJLs5",
        "colab": {
          "base_uri": "https://localhost:8080/"
        },
        "outputId": "0cc5c4db-956f-4fb2-cac8-5ef749b4fe9f"
      },
      "outputs": [
        {
          "output_type": "stream",
          "name": "stdout",
          "text": [
            "Epoch 1/15\n",
            "154/154 [==============================] - 5s 8ms/step - loss: 0.6177 - accuracy: 0.6927 - precision: 0.6977 - recall: 0.6800 - val_loss: 0.6575 - val_accuracy: 0.6637 - val_precision: 0.7326 - val_recall: 0.5147\n",
            "Epoch 2/15\n",
            "154/154 [==============================] - 1s 5ms/step - loss: 0.5250 - accuracy: 0.7561 - precision: 0.7416 - recall: 0.7861 - val_loss: 0.5952 - val_accuracy: 0.7233 - val_precision: 0.6914 - val_recall: 0.8056\n",
            "Epoch 3/15\n",
            "154/154 [==============================] - 1s 6ms/step - loss: 0.4927 - accuracy: 0.7786 - precision: 0.7571 - recall: 0.8204 - val_loss: 0.4976 - val_accuracy: 0.7478 - val_precision: 0.7125 - val_recall: 0.8301\n",
            "Epoch 4/15\n",
            "154/154 [==============================] - 1s 5ms/step - loss: 0.4848 - accuracy: 0.7763 - precision: 0.7543 - recall: 0.8196 - val_loss: 0.4615 - val_accuracy: 0.7755 - val_precision: 0.7324 - val_recall: 0.8676\n",
            "Epoch 5/15\n",
            "154/154 [==============================] - 1s 6ms/step - loss: 0.4627 - accuracy: 0.7916 - precision: 0.7720 - recall: 0.8278 - val_loss: 0.4544 - val_accuracy: 0.7927 - val_precision: 0.7237 - val_recall: 0.9461\n",
            "Epoch 6/15\n",
            "154/154 [==============================] - 1s 7ms/step - loss: 0.4516 - accuracy: 0.7941 - precision: 0.7660 - recall: 0.8469 - val_loss: 0.4601 - val_accuracy: 0.7665 - val_precision: 0.7283 - val_recall: 0.8497\n",
            "Epoch 7/15\n",
            "154/154 [==============================] - 1s 10ms/step - loss: 0.4422 - accuracy: 0.7980 - precision: 0.7666 - recall: 0.8567 - val_loss: 0.4524 - val_accuracy: 0.7829 - val_precision: 0.7383 - val_recall: 0.8758\n",
            "Epoch 8/15\n",
            "154/154 [==============================] - 1s 7ms/step - loss: 0.4396 - accuracy: 0.8010 - precision: 0.7693 - recall: 0.8600 - val_loss: 0.4417 - val_accuracy: 0.7984 - val_precision: 0.7490 - val_recall: 0.8971\n",
            "Epoch 9/15\n",
            "154/154 [==============================] - 1s 6ms/step - loss: 0.4289 - accuracy: 0.8018 - precision: 0.7661 - recall: 0.8690 - val_loss: 0.4387 - val_accuracy: 0.7967 - val_precision: 0.7463 - val_recall: 0.8987\n",
            "Epoch 10/15\n",
            "154/154 [==============================] - 1s 5ms/step - loss: 0.4250 - accuracy: 0.8041 - precision: 0.7680 - recall: 0.8714 - val_loss: 0.4285 - val_accuracy: 0.7951 - val_precision: 0.7807 - val_recall: 0.8203\n",
            "Epoch 11/15\n",
            "154/154 [==============================] - 1s 6ms/step - loss: 0.4261 - accuracy: 0.8059 - precision: 0.7777 - recall: 0.8567 - val_loss: 0.4151 - val_accuracy: 0.8082 - val_precision: 0.7941 - val_recall: 0.8317\n",
            "Epoch 12/15\n",
            "154/154 [==============================] - 1s 5ms/step - loss: 0.4309 - accuracy: 0.8037 - precision: 0.7764 - recall: 0.8531 - val_loss: 0.4345 - val_accuracy: 0.8000 - val_precision: 0.7463 - val_recall: 0.9085\n",
            "Epoch 13/15\n",
            "154/154 [==============================] - 1s 6ms/step - loss: 0.4308 - accuracy: 0.8031 - precision: 0.7683 - recall: 0.8678 - val_loss: 0.4126 - val_accuracy: 0.8106 - val_precision: 0.7722 - val_recall: 0.8807\n",
            "Epoch 14/15\n",
            "154/154 [==============================] - 1s 6ms/step - loss: 0.4142 - accuracy: 0.8129 - precision: 0.7807 - recall: 0.8702 - val_loss: 0.4185 - val_accuracy: 0.8139 - val_precision: 0.7652 - val_recall: 0.9052\n",
            "Epoch 15/15\n",
            "154/154 [==============================] - 1s 7ms/step - loss: 0.4114 - accuracy: 0.8124 - precision: 0.7753 - recall: 0.8800 - val_loss: 0.4036 - val_accuracy: 0.8180 - val_precision: 0.7690 - val_recall: 0.9085\n"
          ]
        }
      ],
      "source": [
        "model.compile(optimizer='adam', loss='binary_crossentropy', metrics=['accuracy', 'Precision', 'Recall'])\n",
        "\n",
        "history2 = model.fit(x_train, y_train, validation_data=(x_val, y_val), epochs=15)"
      ]
    },
    {
      "cell_type": "code",
      "execution_count": 29,
      "metadata": {
        "id": "eenpPyr_ezcH",
        "colab": {
          "base_uri": "https://localhost:8080/"
        },
        "outputId": "6045753e-0e68-4f7a-8287-4981771cc3fb"
      },
      "outputs": [
        {
          "output_type": "stream",
          "name": "stdout",
          "text": [
            "22/22 [==============================] - 0s 3ms/step - loss: 0.4012 - accuracy: 0.8179 - precision: 0.7761 - recall: 0.8944\n"
          ]
        },
        {
          "output_type": "execute_result",
          "data": {
            "text/plain": [
              "[0.40124887228012085,\n",
              " 0.8179148435592651,\n",
              " 0.7760814428329468,\n",
              " 0.8944281339645386]"
            ]
          },
          "metadata": {},
          "execution_count": 29
        }
      ],
      "source": [
        "model.evaluate(x_test, y_test)"
      ]
    },
    {
      "cell_type": "markdown",
      "metadata": {
        "id": "hhkSEThVKEdm"
      },
      "source": [
        "We see that we are achieving better metrics with batch normalization."
      ]
    }
  ],
  "metadata": {
    "colab": {
      "collapsed_sections": [
        "d1GOfAgt4M-Q",
        "KICuY0lg5nUD",
        "AD57fE2n7QP4",
        "U5zevRH57X8v",
        "IImSYWQGBSz6",
        "ngJVLbRKG7U_",
        "mXf6cpO_KWTs"
      ],
      "provenance": [],
      "include_colab_link": true
    },
    "kernelspec": {
      "display_name": "Python 3 (ipykernel)",
      "language": "python",
      "name": "python3"
    },
    "language_info": {
      "codemirror_mode": {
        "name": "ipython",
        "version": 3
      },
      "file_extension": ".py",
      "mimetype": "text/x-python",
      "name": "python",
      "nbconvert_exporter": "python",
      "pygments_lexer": "ipython3",
      "version": "3.9.13"
    },
    "vscode": {
      "interpreter": {
        "hash": "8c3d4d9970fc5c09c50d9318a9c7fbf4d0159e4b28833276f5678ee22bded273"
      }
    }
  },
  "nbformat": 4,
  "nbformat_minor": 0
}